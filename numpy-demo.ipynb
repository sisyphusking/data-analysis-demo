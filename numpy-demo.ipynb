{
 "cells": [
  {
   "cell_type": "markdown",
   "metadata": {},
   "source": [
    "## numpy基础知识"
   ]
  },
  {
   "cell_type": "code",
   "execution_count": 2,
   "metadata": {},
   "outputs": [],
   "source": [
    "import numpy as np"
   ]
  },
  {
   "cell_type": "markdown",
   "metadata": {},
   "source": [
    "### 1、数组"
   ]
  },
  {
   "cell_type": "code",
   "execution_count": 2,
   "metadata": {},
   "outputs": [
    {
     "name": "stdout",
     "output_type": "stream",
     "text": [
      "[1 2 3]\n"
     ]
    }
   ],
   "source": [
    "# 将list转化成数组\n",
    "a = [1,2 ,3 ]\n",
    "print(np.array(a))"
   ]
  },
  {
   "cell_type": "code",
   "execution_count": 8,
   "metadata": {},
   "outputs": [
    {
     "name": "stdout",
     "output_type": "stream",
     "text": [
      "[[1 2 3]\n",
      " [2 3 4]]\n",
      "(2, 3)\n"
     ]
    },
    {
     "data": {
      "text/plain": [
       "2"
      ]
     },
     "execution_count": 8,
     "metadata": {},
     "output_type": "execute_result"
    }
   ],
   "source": [
    "b = np.array([[1,2,3], [2,3,4]])\n",
    "print(b)\n",
    "print(b.shape)\n",
    "## 打印出第一行第三个元素\n",
    "b[0,1]"
   ]
  },
  {
   "cell_type": "code",
   "execution_count": 11,
   "metadata": {},
   "outputs": [
    {
     "data": {
      "text/plain": [
       "array([[0., 0., 0.],\n",
       "       [0., 0., 0.]])"
      ]
     },
     "execution_count": 11,
     "metadata": {},
     "output_type": "execute_result"
    }
   ],
   "source": [
    "# 创建（2,3）的矩阵,元素为0\n",
    "c = np.zeros((2,3))\n",
    "c"
   ]
  },
  {
   "cell_type": "code",
   "execution_count": 13,
   "metadata": {},
   "outputs": [
    {
     "data": {
      "text/plain": [
       "array([[1., 1., 1.],\n",
       "       [1., 1., 1.]])"
      ]
     },
     "execution_count": 13,
     "metadata": {},
     "output_type": "execute_result"
    }
   ],
   "source": [
    "# 创建（2,3）矩阵，元素都是1\n",
    "d = np.ones((2,3))\n",
    "d"
   ]
  },
  {
   "cell_type": "code",
   "execution_count": 15,
   "metadata": {},
   "outputs": [
    {
     "data": {
      "text/plain": [
       "array([[3, 3],\n",
       "       [3, 3]])"
      ]
     },
     "execution_count": 15,
     "metadata": {},
     "output_type": "execute_result"
    }
   ],
   "source": [
    "# 创建（2,3）矩阵，元素都是3\n",
    "e = np.full((2,2), 3)\n",
    "e"
   ]
  },
  {
   "cell_type": "code",
   "execution_count": 17,
   "metadata": {},
   "outputs": [
    {
     "data": {
      "text/plain": [
       "array([[1., 0., 0.],\n",
       "       [0., 1., 0.],\n",
       "       [0., 0., 1.]])"
      ]
     },
     "execution_count": 17,
     "metadata": {},
     "output_type": "execute_result"
    }
   ],
   "source": [
    "# 生成对角线元素为1的3*3矩阵,其余元素都为0\n",
    "f =  np.eye(3)\n",
    "f"
   ]
  },
  {
   "cell_type": "code",
   "execution_count": 18,
   "metadata": {},
   "outputs": [
    {
     "data": {
      "text/plain": [
       "array([[0.20578415, 0.70455621],\n",
       "       [0.6479671 , 0.11691438],\n",
       "       [0.66661127, 0.35846933]])"
      ]
     },
     "execution_count": 18,
     "metadata": {},
     "output_type": "execute_result"
    }
   ],
   "source": [
    "# 生成（2,3）矩阵，元素取[0，1）之间的随机浮点数\n",
    "g = np.random.random((3,2))\n",
    "g"
   ]
  },
  {
   "cell_type": "code",
   "execution_count": 62,
   "metadata": {},
   "outputs": [
    {
     "data": {
      "text/plain": [
       "array([[-1, -2],\n",
       "       [ 3, -2]])"
      ]
     },
     "execution_count": 62,
     "metadata": {},
     "output_type": "execute_result"
    }
   ],
   "source": [
    "# 生成（2,2）维度的矩阵，元素取[-5,5）之间的整数\n",
    "h = np.random.randint(-5,5,size=(2,2))\n",
    "h"
   ]
  },
  {
   "cell_type": "code",
   "execution_count": 67,
   "metadata": {},
   "outputs": [
    {
     "data": {
      "text/plain": [
       "array([[[5.28428816e-316, 7.41098469e-322, 0.00000000e+000,\n",
       "         0.00000000e+000],\n",
       "        [2.41907520e-312, 1.16095484e-028, 5.28595592e-085,\n",
       "         1.01445441e+242],\n",
       "        [3.75159209e-091, 6.84979043e+180, 9.14396616e+135,\n",
       "         1.71352438e+214]],\n",
       "\n",
       "       [[1.17149199e+214, 1.67793285e+243, 1.67793307e+243,\n",
       "         8.03704417e-095],\n",
       "        [9.03292329e+271, 9.08366793e+223, 7.98460089e+159,\n",
       "         8.09291803e+175],\n",
       "        [5.56218858e+180, 2.97912157e+228, 9.44872517e-143,\n",
       "         1.67979709e+243]]])"
      ]
     },
     "execution_count": 67,
     "metadata": {},
     "output_type": "execute_result"
    }
   ],
   "source": [
    "# 类似ones，元素值随机，不进行初始化\n",
    "# 多次执行这个，得到的值是不变的。\n",
    "i = np.empty((2,3,4))\n",
    "i"
   ]
  },
  {
   "cell_type": "code",
   "execution_count": 61,
   "metadata": {},
   "outputs": [
    {
     "data": {
      "text/plain": [
       "array([[1651835066, 1864394092, 1886265458],\n",
       "       [1868849966, 1701601909, 1886330924]])"
      ]
     },
     "execution_count": 61,
     "metadata": {},
     "output_type": "execute_result"
    }
   ],
   "source": [
    "# 元素是整型的\n",
    "i_1 = np.empty([2,3],dtype=int)\n",
    "i_1"
   ]
  },
  {
   "cell_type": "code",
   "execution_count": 68,
   "metadata": {},
   "outputs": [
    {
     "name": "stdout",
     "output_type": "stream",
     "text": [
      "float64\n"
     ]
    }
   ],
   "source": [
    "# 数据类型\n",
    "j = np.array([1,2,3], dtype=np.float64)\n",
    "print(j.dtype)"
   ]
  },
  {
   "cell_type": "code",
   "execution_count": 70,
   "metadata": {},
   "outputs": [
    {
     "name": "stdout",
     "output_type": "stream",
     "text": [
      "int32 [1 2 3 4 5]\n",
      "float64 [1. 2. 3. 4. 5.]\n"
     ]
    }
   ],
   "source": [
    "# 修改数据类型\n",
    "int_arr = np.array([1,2,3,4,5])\n",
    "print(int_arr.dtype,int_arr)\n",
    "# 使用astype将float转换为int时小数部分被舍弃\n",
    "float_arr = int_arr.astype(np.float64)\n",
    "print(float_arr.dtype, float_arr)"
   ]
  },
  {
   "cell_type": "markdown",
   "metadata": {},
   "source": [
    "### 2、数组取值"
   ]
  },
  {
   "cell_type": "code",
   "execution_count": 71,
   "metadata": {},
   "outputs": [
    {
     "name": "stdout",
     "output_type": "stream",
     "text": [
      "[[ 1  2  3  4]\n",
      " [ 5  6  7  8]\n",
      " [ 9 10 11 12]]\n",
      "(3, 4)\n"
     ]
    }
   ],
   "source": [
    "k = np.array([[1,2,3,4], [5,6,7,8], [9,10,11,12]])\n",
    "print(k)\n",
    "print(k.shape)"
   ]
  },
  {
   "cell_type": "code",
   "execution_count": 72,
   "metadata": {},
   "outputs": [
    {
     "name": "stdout",
     "output_type": "stream",
     "text": [
      "[[3 4]\n",
      " [7 8]]\n"
     ]
    }
   ],
   "source": [
    "# 取k中前两行、第三第四列的数据\n",
    "l = k[0:2,2:4].copy()\n",
    "print(l)"
   ]
  },
  {
   "cell_type": "code",
   "execution_count": 73,
   "metadata": {},
   "outputs": [
    {
     "data": {
      "text/plain": [
       "array([[111,   4],\n",
       "       [  7,   8]])"
      ]
     },
     "execution_count": 73,
     "metadata": {},
     "output_type": "execute_result"
    }
   ],
   "source": [
    "# 修改l中的值,\n",
    "l[0,0]=111\n",
    "l"
   ]
  },
  {
   "cell_type": "markdown",
   "metadata": {},
   "source": [
    "##### 2.1 、取出行数据"
   ]
  },
  {
   "cell_type": "code",
   "execution_count": 80,
   "metadata": {},
   "outputs": [
    {
     "name": "stdout",
     "output_type": "stream",
     "text": [
      "(4,) [5 6 7 8]\n",
      "(1, 4) [[5 6 7 8]]\n",
      "(1, 4) [[5 6 7 8]]\n"
     ]
    }
   ],
   "source": [
    "# 取出一整行数据，第二行\n",
    "k_1 = k[1,:]\n",
    "print(k_1.shape,k_1)\n",
    "k_2 = k[1:2,:]  # 还是一个矩阵，和上面不一样\n",
    "print(k_2.shape,k_2)\n",
    "k_3 = k[[1], :]\n",
    "print(k_3.shape,k_3)"
   ]
  },
  {
   "cell_type": "markdown",
   "metadata": {},
   "source": [
    "#### 2.2 、取出列数据"
   ]
  },
  {
   "cell_type": "code",
   "execution_count": 82,
   "metadata": {},
   "outputs": [
    {
     "name": "stdout",
     "output_type": "stream",
     "text": [
      "(3,) [ 3  7 11]\n",
      "(3, 1) [[ 2]\n",
      " [ 6]\n",
      " [10]]\n"
     ]
    }
   ],
   "source": [
    "# 取出k中第3列的元素\n",
    "k_4 = k[:,2]\n",
    "print(k_4.shape,k_4)\n",
    "k_5 = k[:, 1:2] # 取出第2列数据，并作为矩阵返回\n",
    "print(k_5.shape,k_5)"
   ]
  },
  {
   "cell_type": "code",
   "execution_count": 85,
   "metadata": {},
   "outputs": [
    {
     "data": {
      "text/plain": [
       "array([[1, 2],\n",
       "       [3, 4],\n",
       "       [5, 6]])"
      ]
     },
     "execution_count": 85,
     "metadata": {},
     "output_type": "execute_result"
    }
   ],
   "source": [
    "m = np.array([[1,2], [3, 4], [5, 6]])\n",
    "m"
   ]
  },
  {
   "cell_type": "code",
   "execution_count": 86,
   "metadata": {},
   "outputs": [
    {
     "name": "stdout",
     "output_type": "stream",
     "text": [
      "[1 4 5]\n",
      "(3,)\n"
     ]
    }
   ],
   "source": [
    "# 取出第一行、第二行、第三行中对应的第一列，第二列、第一列的数据\n",
    "print(m[[0,1,2], [0,1,0]])\n",
    "print(m[[0,1,2], [0,1,0]].shape)"
   ]
  },
  {
   "cell_type": "code",
   "execution_count": 87,
   "metadata": {},
   "outputs": [
    {
     "data": {
      "text/plain": [
       "array([[ 1,  2,  3],\n",
       "       [ 4,  5,  6],\n",
       "       [ 7,  8,  9],\n",
       "       [10, 11, 12]])"
      ]
     },
     "execution_count": 87,
     "metadata": {},
     "output_type": "execute_result"
    }
   ],
   "source": [
    "n = np.array([[1,2,3], [4,5,6], [7,8,9], [10, 11, 12]])\n",
    "n"
   ]
  },
  {
   "cell_type": "code",
   "execution_count": 91,
   "metadata": {},
   "outputs": [
    {
     "name": "stdout",
     "output_type": "stream",
     "text": [
      "[0 2 0 1]\n",
      "[ 1  6  7 11]\n"
     ]
    },
    {
     "data": {
      "text/plain": [
       "array([[101,   2,   3],\n",
       "       [  4,   5, 106],\n",
       "       [107,   8,   9],\n",
       "       [ 10, 111,  12]])"
      ]
     },
     "execution_count": 91,
     "metadata": {},
     "output_type": "execute_result"
    }
   ],
   "source": [
    "n_1 = np.array([0, 2,0,1])\n",
    "print(n_1)\n",
    "# 打印出（1,2,3，4）行对应的（0+1,2+1,0+1,1+1）列数据\n",
    "print(n[np.arange(4), n_1])\n",
    "# n中对应元素加1\n",
    "n[np.arange(4), n_1]+=100\n",
    "n"
   ]
  },
  {
   "cell_type": "code",
   "execution_count": 93,
   "metadata": {},
   "outputs": [
    {
     "data": {
      "text/plain": [
       "array([[ True, False, False],\n",
       "       [False,  True,  True],\n",
       "       [ True,  True,  True],\n",
       "       [ True,  True,  True]])"
      ]
     },
     "execution_count": 93,
     "metadata": {},
     "output_type": "execute_result"
    }
   ],
   "source": [
    "# 判定元素大小,n中大于4的为true\n",
    "n_2 = (n>4)\n",
    "n_2"
   ]
  },
  {
   "cell_type": "code",
   "execution_count": 96,
   "metadata": {},
   "outputs": [
    {
     "data": {
      "text/plain": [
       "array([101, 106, 107, 111,  12])"
      ]
     },
     "execution_count": 96,
     "metadata": {},
     "output_type": "execute_result"
    }
   ],
   "source": [
    "# 输出n中大于10的元素\n",
    "n[n>10]"
   ]
  },
  {
   "cell_type": "markdown",
   "metadata": {},
   "source": [
    "更加高级的用法\n",
    "![](http://old.sebug.net/paper/books/scipydoc/_images/numpy_intro_02.png)\n",
    "![](http://old.sebug.net/paper/books/scipydoc/_images/numpy_intro_03.png)"
   ]
  },
  {
   "cell_type": "markdown",
   "metadata": {},
   "source": [
    "###  3、数学运算"
   ]
  },
  {
   "cell_type": "code",
   "execution_count": 4,
   "metadata": {},
   "outputs": [
    {
     "name": "stdout",
     "output_type": "stream",
     "text": [
      "[[1. 2.]\n",
      " [3. 4.]]\n",
      "[[5. 6.]\n",
      " [7. 8.]]\n",
      "[[ 6.  8.]\n",
      " [10. 12.]]\n",
      "[[ 6.  8.]\n",
      " [10. 12.]]\n"
     ]
    }
   ],
   "source": [
    "o = np.array([[1,2],[3,4]], dtype=np.float64)\n",
    "p = np.array([[5,6],[7,8]], dtype=np.float64)\n",
    "print(o)\n",
    "print(p)\n",
    "# 加法运算，其他加减乘除类似\n",
    "print(np.add(o,p))\n",
    "# 另一种写法\n",
    "print(o+p)"
   ]
  },
  {
   "cell_type": "code",
   "execution_count": 7,
   "metadata": {},
   "outputs": [
    {
     "name": "stdout",
     "output_type": "stream",
     "text": [
      "[[19. 22.]\n",
      " [43. 50.]]\n",
      "219\n"
     ]
    }
   ],
   "source": [
    "# 向量内积\n",
    "# 对于二维矩阵，计算真正意义上的矩阵乘积\n",
    "print(np.dot(o,p))\n",
    "#  对于一维矩阵，计算两者的内积\n",
    "o_1 = np.array([9,10])\n",
    "p_1 =  np.array([11,12])\n",
    "print(np.dot(o_1,p_1))"
   ]
  },
  {
   "cell_type": "code",
   "execution_count": 10,
   "metadata": {},
   "outputs": [
    {
     "name": "stdout",
     "output_type": "stream",
     "text": [
      "(2, 2)\n"
     ]
    },
    {
     "data": {
      "text/plain": [
       "array([[2, 4],\n",
       "       [3, 5]])"
      ]
     },
     "execution_count": 10,
     "metadata": {},
     "output_type": "execute_result"
    }
   ],
   "source": [
    "# 转置矩阵\n",
    "o_2 = np.array([[2,3],[4,5]])\n",
    "o_2.T"
   ]
  },
  {
   "cell_type": "code",
   "execution_count": 11,
   "metadata": {},
   "outputs": [
    {
     "data": {
      "text/plain": [
       "array([[[ 0,  1,  2,  3],\n",
       "        [ 4,  5,  6,  7]],\n",
       "\n",
       "       [[ 8,  9, 10, 11],\n",
       "        [12, 13, 14, 15]]])"
      ]
     },
     "execution_count": 11,
     "metadata": {},
     "output_type": "execute_result"
    }
   ],
   "source": [
    "q = np.arange(16).reshape(2,2,4)\n",
    "q"
   ]
  },
  {
   "cell_type": "code",
   "execution_count": 19,
   "metadata": {},
   "outputs": [
    {
     "name": "stdout",
     "output_type": "stream",
     "text": [
      "[[[ 0  8]\n",
      "  [ 4 12]]\n",
      "\n",
      " [[ 1  9]\n",
      "  [ 5 13]]\n",
      "\n",
      " [[ 2 10]\n",
      "  [ 6 14]]\n",
      "\n",
      " [[ 3 11]\n",
      "  [ 7 15]]]\n",
      "-----\n",
      "[[[ 0  1  2  3]\n",
      "  [ 8  9 10 11]]\n",
      "\n",
      " [[ 4  5  6  7]\n",
      "  [12 13 14 15]]]\n",
      "-----\n",
      "[[[ 0  8]\n",
      "  [ 4 12]]\n",
      "\n",
      " [[ 1  9]\n",
      "  [ 5 13]]\n",
      "\n",
      " [[ 2 10]\n",
      "  [ 6 14]]\n",
      "\n",
      " [[ 3 11]\n",
      "  [ 7 15]]]\n"
     ]
    }
   ],
   "source": [
    "# transpose默认是转置矩阵\n",
    "q_1 = q.transpose()\n",
    "print(q_1)\n",
    "print('-'*5)\n",
    "# q的0轴和1轴交换 ，注意：第一个方括号“[]”为 0轴 ，第二个方括号为 1轴 \n",
    "q_2 = q.transpose((1,0,2))\n",
    "print(q_2)\n",
    "print('-'*5)\n",
    "# q的0轴和2轴交换位置\n",
    "q_3 = q.transpose((2,1,0))\n",
    "print(q_3)"
   ]
  },
  {
   "cell_type": "markdown",
   "metadata": {},
   "source": [
    "q （图中2轴从下到上应该是0，1，2，3） ![](https://github.com/sisyphusking/daydayup/blob/master/matrix-transpose.png?raw=true)\n",
    "q交换0轴和1轴(第一个方括号“[]”为 0轴 ，第二个方括号为 1轴 ) ![](https://github.com/sisyphusking/daydayup/blob/master/matrix-transpose-2.png?raw=true)"
   ]
  },
  {
   "cell_type": "code",
   "execution_count": 8,
   "metadata": {},
   "outputs": [
    {
     "name": "stdout",
     "output_type": "stream",
     "text": [
      "[[1 2]\n",
      " [3 4]]\n",
      "10\n",
      "[4 6]\n",
      "[3 7]\n",
      "[1.5 3.5]\n"
     ]
    }
   ],
   "source": [
    "# 矩阵内元素求和\n",
    "r = np.array([[1,2], [3,4]])\n",
    "print(r)\n",
    "# 各个元素相加\n",
    "r1 = np.sum(r)\n",
    "print(r1)\n",
    "# 列元素相加\n",
    "r2 = np.sum(r,axis=0)\n",
    "print(r2)\n",
    "# 行元素相加\n",
    "r3 = np.sum(r,axis=1)\n",
    "print(r3)\n",
    "# 行元素求均值\n",
    "r4 = np.mean(r,axis=1)\n",
    "print(r4)"
   ]
  },
  {
   "cell_type": "code",
   "execution_count": null,
   "metadata": {},
   "outputs": [],
   "source": [
    "# "
   ]
  }
 ],
 "metadata": {
  "kernelspec": {
   "display_name": "Python 3",
   "language": "python",
   "name": "python3"
  },
  "language_info": {
   "codemirror_mode": {
    "name": "ipython",
    "version": 3
   },
   "file_extension": ".py",
   "mimetype": "text/x-python",
   "name": "python",
   "nbconvert_exporter": "python",
   "pygments_lexer": "ipython3",
   "version": "3.6.4"
  }
 },
 "nbformat": 4,
 "nbformat_minor": 2
}
