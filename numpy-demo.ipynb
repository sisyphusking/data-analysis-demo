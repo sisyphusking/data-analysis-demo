{
 "cells": [
  {
   "cell_type": "markdown",
   "metadata": {},
   "source": [
    "## numpy基础知识"
   ]
  },
  {
   "cell_type": "code",
   "execution_count": 2,
   "metadata": {
    "collapsed": true
   },
   "outputs": [],
   "source": [
    "import numpy as np"
   ]
  },
  {
   "cell_type": "markdown",
   "metadata": {},
   "source": [
    "### 1、数组"
   ]
  },
  {
   "cell_type": "code",
   "execution_count": 2,
   "metadata": {},
   "outputs": [
    {
     "name": "stdout",
     "output_type": "stream",
     "text": [
      "[1 2 3]\n"
     ]
    }
   ],
   "source": [
    "# 将list转化成数组\n",
    "a = [1,2 ,3 ]\n",
    "print(np.array(a))"
   ]
  },
  {
   "cell_type": "code",
   "execution_count": 8,
   "metadata": {},
   "outputs": [
    {
     "name": "stdout",
     "output_type": "stream",
     "text": [
      "[[1 2 3]\n",
      " [2 3 4]]\n",
      "(2, 3)\n"
     ]
    },
    {
     "data": {
      "text/plain": [
       "2"
      ]
     },
     "execution_count": 8,
     "metadata": {},
     "output_type": "execute_result"
    }
   ],
   "source": [
    "b = np.array([[1,2,3], [2,3,4]])\n",
    "print(b)\n",
    "print(b.shape)\n",
    "## 打印出第一行第三个元素\n",
    "b[0,1]"
   ]
  },
  {
   "cell_type": "code",
   "execution_count": 11,
   "metadata": {},
   "outputs": [
    {
     "data": {
      "text/plain": [
       "array([[0., 0., 0.],\n",
       "       [0., 0., 0.]])"
      ]
     },
     "execution_count": 11,
     "metadata": {},
     "output_type": "execute_result"
    }
   ],
   "source": [
    "# 创建（2,3）的矩阵,元素为0\n",
    "c = np.zeros((2,3))\n",
    "c"
   ]
  },
  {
   "cell_type": "code",
   "execution_count": 13,
   "metadata": {},
   "outputs": [
    {
     "data": {
      "text/plain": [
       "array([[1., 1., 1.],\n",
       "       [1., 1., 1.]])"
      ]
     },
     "execution_count": 13,
     "metadata": {},
     "output_type": "execute_result"
    }
   ],
   "source": [
    "# 创建（2,3）矩阵，元素都是1\n",
    "d = np.ones((2,3))\n",
    "d"
   ]
  },
  {
   "cell_type": "code",
   "execution_count": 15,
   "metadata": {},
   "outputs": [
    {
     "data": {
      "text/plain": [
       "array([[3, 3],\n",
       "       [3, 3]])"
      ]
     },
     "execution_count": 15,
     "metadata": {},
     "output_type": "execute_result"
    }
   ],
   "source": [
    "# 创建（2,3）矩阵，元素都是3\n",
    "e = np.full((2,2), 3)\n",
    "e"
   ]
  },
  {
   "cell_type": "code",
   "execution_count": 17,
   "metadata": {},
   "outputs": [
    {
     "data": {
      "text/plain": [
       "array([[1., 0., 0.],\n",
       "       [0., 1., 0.],\n",
       "       [0., 0., 1.]])"
      ]
     },
     "execution_count": 17,
     "metadata": {},
     "output_type": "execute_result"
    }
   ],
   "source": [
    "# 生成对角线元素为1的3*3矩阵,其余元素都为0\n",
    "f =  np.eye(3)\n",
    "f"
   ]
  },
  {
   "cell_type": "code",
   "execution_count": 18,
   "metadata": {},
   "outputs": [
    {
     "data": {
      "text/plain": [
       "array([[0.20578415, 0.70455621],\n",
       "       [0.6479671 , 0.11691438],\n",
       "       [0.66661127, 0.35846933]])"
      ]
     },
     "execution_count": 18,
     "metadata": {},
     "output_type": "execute_result"
    }
   ],
   "source": [
    "# 生成（2,3）矩阵，元素取[0，1）之间的随机浮点数\n",
    "g = np.random.random((3,2))\n",
    "g"
   ]
  },
  {
   "cell_type": "code",
   "execution_count": 62,
   "metadata": {},
   "outputs": [
    {
     "data": {
      "text/plain": [
       "array([[-1, -2],\n",
       "       [ 3, -2]])"
      ]
     },
     "execution_count": 62,
     "metadata": {},
     "output_type": "execute_result"
    }
   ],
   "source": [
    "# 生成（2,2）维度的矩阵，元素取[-5,5）之间的整数\n",
    "h = np.random.randint(-5,5,size=(2,2))\n",
    "h"
   ]
  },
  {
   "cell_type": "code",
   "execution_count": 67,
   "metadata": {},
   "outputs": [
    {
     "data": {
      "text/plain": [
       "array([[[5.28428816e-316, 7.41098469e-322, 0.00000000e+000,\n",
       "         0.00000000e+000],\n",
       "        [2.41907520e-312, 1.16095484e-028, 5.28595592e-085,\n",
       "         1.01445441e+242],\n",
       "        [3.75159209e-091, 6.84979043e+180, 9.14396616e+135,\n",
       "         1.71352438e+214]],\n",
       "\n",
       "       [[1.17149199e+214, 1.67793285e+243, 1.67793307e+243,\n",
       "         8.03704417e-095],\n",
       "        [9.03292329e+271, 9.08366793e+223, 7.98460089e+159,\n",
       "         8.09291803e+175],\n",
       "        [5.56218858e+180, 2.97912157e+228, 9.44872517e-143,\n",
       "         1.67979709e+243]]])"
      ]
     },
     "execution_count": 67,
     "metadata": {},
     "output_type": "execute_result"
    }
   ],
   "source": [
    "# 类似ones，元素值随机，不进行初始化\n",
    "# 多次执行这个，得到的值是不变的。\n",
    "i = np.empty((2,3,4))\n",
    "i"
   ]
  },
  {
   "cell_type": "code",
   "execution_count": 61,
   "metadata": {},
   "outputs": [
    {
     "data": {
      "text/plain": [
       "array([[1651835066, 1864394092, 1886265458],\n",
       "       [1868849966, 1701601909, 1886330924]])"
      ]
     },
     "execution_count": 61,
     "metadata": {},
     "output_type": "execute_result"
    }
   ],
   "source": [
    "# 元素是整型的\n",
    "i_1 = np.empty([2,3],dtype=int)\n",
    "i_1"
   ]
  },
  {
   "cell_type": "code",
   "execution_count": 68,
   "metadata": {},
   "outputs": [
    {
     "name": "stdout",
     "output_type": "stream",
     "text": [
      "float64\n"
     ]
    }
   ],
   "source": [
    "# 数据类型\n",
    "j = np.array([1,2,3], dtype=np.float64)\n",
    "print(j.dtype)"
   ]
  },
  {
   "cell_type": "code",
   "execution_count": 70,
   "metadata": {},
   "outputs": [
    {
     "name": "stdout",
     "output_type": "stream",
     "text": [
      "int32 [1 2 3 4 5]\n",
      "float64 [1. 2. 3. 4. 5.]\n"
     ]
    }
   ],
   "source": [
    "# 修改数据类型\n",
    "int_arr = np.array([1,2,3,4,5])\n",
    "print(int_arr.dtype,int_arr)\n",
    "# 使用astype将float转换为int时小数部分被舍弃\n",
    "float_arr = int_arr.astype(np.float64)\n",
    "print(float_arr.dtype, float_arr)"
   ]
  },
  {
   "cell_type": "markdown",
   "metadata": {},
   "source": [
    "### 2、数组取值"
   ]
  },
  {
   "cell_type": "code",
   "execution_count": 71,
   "metadata": {},
   "outputs": [
    {
     "name": "stdout",
     "output_type": "stream",
     "text": [
      "[[ 1  2  3  4]\n",
      " [ 5  6  7  8]\n",
      " [ 9 10 11 12]]\n",
      "(3, 4)\n"
     ]
    }
   ],
   "source": [
    "k = np.array([[1,2,3,4], [5,6,7,8], [9,10,11,12]])\n",
    "print(k)\n",
    "print(k.shape)"
   ]
  },
  {
   "cell_type": "code",
   "execution_count": 72,
   "metadata": {},
   "outputs": [
    {
     "name": "stdout",
     "output_type": "stream",
     "text": [
      "[[3 4]\n",
      " [7 8]]\n"
     ]
    }
   ],
   "source": [
    "# 取k中前两行、第三第四列的数据\n",
    "l = k[0:2,2:4].copy()\n",
    "print(l)"
   ]
  },
  {
   "cell_type": "code",
   "execution_count": 73,
   "metadata": {},
   "outputs": [
    {
     "data": {
      "text/plain": [
       "array([[111,   4],\n",
       "       [  7,   8]])"
      ]
     },
     "execution_count": 73,
     "metadata": {},
     "output_type": "execute_result"
    }
   ],
   "source": [
    "# 修改l中的值,\n",
    "l[0,0]=111\n",
    "l"
   ]
  },
  {
   "cell_type": "markdown",
   "metadata": {},
   "source": [
    "##### 2.1 、取出行数据"
   ]
  },
  {
   "cell_type": "code",
   "execution_count": 80,
   "metadata": {},
   "outputs": [
    {
     "name": "stdout",
     "output_type": "stream",
     "text": [
      "(4,) [5 6 7 8]\n",
      "(1, 4) [[5 6 7 8]]\n",
      "(1, 4) [[5 6 7 8]]\n"
     ]
    }
   ],
   "source": [
    "# 取出一整行数据，第二行\n",
    "k_1 = k[1,:]\n",
    "print(k_1.shape,k_1)\n",
    "k_2 = k[1:2,:]  # 还是一个矩阵，和上面不一样\n",
    "print(k_2.shape,k_2)\n",
    "k_3 = k[[1], :]\n",
    "print(k_3.shape,k_3)"
   ]
  },
  {
   "cell_type": "markdown",
   "metadata": {},
   "source": [
    "#### 2.2 、取出列数据"
   ]
  },
  {
   "cell_type": "code",
   "execution_count": 82,
   "metadata": {},
   "outputs": [
    {
     "name": "stdout",
     "output_type": "stream",
     "text": [
      "(3,) [ 3  7 11]\n",
      "(3, 1) [[ 2]\n",
      " [ 6]\n",
      " [10]]\n"
     ]
    }
   ],
   "source": [
    "# 取出k中第3列的元素\n",
    "k_4 = k[:,2]\n",
    "print(k_4.shape,k_4)\n",
    "k_5 = k[:, 1:2] # 取出第2列数据，并作为矩阵返回\n",
    "print(k_5.shape,k_5)"
   ]
  },
  {
   "cell_type": "code",
   "execution_count": 85,
   "metadata": {},
   "outputs": [
    {
     "data": {
      "text/plain": [
       "array([[1, 2],\n",
       "       [3, 4],\n",
       "       [5, 6]])"
      ]
     },
     "execution_count": 85,
     "metadata": {},
     "output_type": "execute_result"
    }
   ],
   "source": [
    "m = np.array([[1,2], [3, 4], [5, 6]])\n",
    "m"
   ]
  },
  {
   "cell_type": "code",
   "execution_count": 86,
   "metadata": {},
   "outputs": [
    {
     "name": "stdout",
     "output_type": "stream",
     "text": [
      "[1 4 5]\n",
      "(3,)\n"
     ]
    }
   ],
   "source": [
    "# 取出第一行、第二行、第三行中对应的第一列，第二列、第一列的数据\n",
    "print(m[[0,1,2], [0,1,0]])\n",
    "print(m[[0,1,2], [0,1,0]].shape)"
   ]
  },
  {
   "cell_type": "code",
   "execution_count": 87,
   "metadata": {},
   "outputs": [
    {
     "data": {
      "text/plain": [
       "array([[ 1,  2,  3],\n",
       "       [ 4,  5,  6],\n",
       "       [ 7,  8,  9],\n",
       "       [10, 11, 12]])"
      ]
     },
     "execution_count": 87,
     "metadata": {},
     "output_type": "execute_result"
    }
   ],
   "source": [
    "n = np.array([[1,2,3], [4,5,6], [7,8,9], [10, 11, 12]])\n",
    "n"
   ]
  },
  {
   "cell_type": "code",
   "execution_count": 91,
   "metadata": {},
   "outputs": [
    {
     "name": "stdout",
     "output_type": "stream",
     "text": [
      "[0 2 0 1]\n",
      "[ 1  6  7 11]\n"
     ]
    },
    {
     "data": {
      "text/plain": [
       "array([[101,   2,   3],\n",
       "       [  4,   5, 106],\n",
       "       [107,   8,   9],\n",
       "       [ 10, 111,  12]])"
      ]
     },
     "execution_count": 91,
     "metadata": {},
     "output_type": "execute_result"
    }
   ],
   "source": [
    "n_1 = np.array([0, 2,0,1])\n",
    "print(n_1)\n",
    "# 打印出（1,2,3，4）行对应的（0+1,2+1,0+1,1+1）列数据\n",
    "print(n[np.arange(4), n_1])\n",
    "# n中对应元素加1\n",
    "n[np.arange(4), n_1]+=100\n",
    "n"
   ]
  },
  {
   "cell_type": "code",
   "execution_count": 93,
   "metadata": {},
   "outputs": [
    {
     "data": {
      "text/plain": [
       "array([[ True, False, False],\n",
       "       [False,  True,  True],\n",
       "       [ True,  True,  True],\n",
       "       [ True,  True,  True]])"
      ]
     },
     "execution_count": 93,
     "metadata": {},
     "output_type": "execute_result"
    }
   ],
   "source": [
    "# 判定元素大小,n中大于4的为true\n",
    "n_2 = (n>4)\n",
    "n_2"
   ]
  },
  {
   "cell_type": "code",
   "execution_count": 96,
   "metadata": {},
   "outputs": [
    {
     "data": {
      "text/plain": [
       "array([101, 106, 107, 111,  12])"
      ]
     },
     "execution_count": 96,
     "metadata": {},
     "output_type": "execute_result"
    }
   ],
   "source": [
    "# 输出n中大于10的元素\n",
    "n[n>10]"
   ]
  },
  {
   "cell_type": "markdown",
   "metadata": {},
   "source": [
    "更加高级的用法\n",
    "![](http://old.sebug.net/paper/books/scipydoc/_images/numpy_intro_02.png)\n",
    "![](http://old.sebug.net/paper/books/scipydoc/_images/numpy_intro_03.png)"
   ]
  },
  {
   "cell_type": "markdown",
   "metadata": {},
   "source": [
    "###  3、数学运算"
   ]
  },
  {
   "cell_type": "code",
   "execution_count": 4,
   "metadata": {},
   "outputs": [
    {
     "name": "stdout",
     "output_type": "stream",
     "text": [
      "[[1. 2.]\n",
      " [3. 4.]]\n",
      "[[5. 6.]\n",
      " [7. 8.]]\n",
      "[[ 6.  8.]\n",
      " [10. 12.]]\n",
      "[[ 6.  8.]\n",
      " [10. 12.]]\n"
     ]
    }
   ],
   "source": [
    "o = np.array([[1,2],[3,4]], dtype=np.float64)\n",
    "p = np.array([[5,6],[7,8]], dtype=np.float64)\n",
    "print(o)\n",
    "print(p)\n",
    "# 加法运算，其他加减乘除类似\n",
    "print(np.add(o,p))\n",
    "# 另一种写法\n",
    "print(o+p)"
   ]
  },
  {
   "cell_type": "code",
   "execution_count": 7,
   "metadata": {},
   "outputs": [
    {
     "name": "stdout",
     "output_type": "stream",
     "text": [
      "[[19. 22.]\n",
      " [43. 50.]]\n",
      "219\n"
     ]
    }
   ],
   "source": [
    "# 向量内积\n",
    "# 对于二维矩阵，计算真正意义上的矩阵乘积\n",
    "print(np.dot(o,p))\n",
    "#  对于一维矩阵，计算两者的内积\n",
    "o_1 = np.array([9,10])\n",
    "p_1 =  np.array([11,12])\n",
    "print(np.dot(o_1,p_1))"
   ]
  },
  {
   "cell_type": "code",
   "execution_count": 10,
   "metadata": {},
   "outputs": [
    {
     "name": "stdout",
     "output_type": "stream",
     "text": [
      "(2, 2)\n"
     ]
    },
    {
     "data": {
      "text/plain": [
       "array([[2, 4],\n",
       "       [3, 5]])"
      ]
     },
     "execution_count": 10,
     "metadata": {},
     "output_type": "execute_result"
    }
   ],
   "source": [
    "# 转置矩阵\n",
    "o_2 = np.array([[2,3],[4,5]])\n",
    "o_2.T"
   ]
  },
  {
   "cell_type": "code",
   "execution_count": 11,
   "metadata": {},
   "outputs": [
    {
     "data": {
      "text/plain": [
       "array([[[ 0,  1,  2,  3],\n",
       "        [ 4,  5,  6,  7]],\n",
       "\n",
       "       [[ 8,  9, 10, 11],\n",
       "        [12, 13, 14, 15]]])"
      ]
     },
     "execution_count": 11,
     "metadata": {},
     "output_type": "execute_result"
    }
   ],
   "source": [
    "q = np.arange(16).reshape(2,2,4)\n",
    "q"
   ]
  },
  {
   "cell_type": "code",
   "execution_count": 19,
   "metadata": {},
   "outputs": [
    {
     "name": "stdout",
     "output_type": "stream",
     "text": [
      "[[[ 0  8]\n",
      "  [ 4 12]]\n",
      "\n",
      " [[ 1  9]\n",
      "  [ 5 13]]\n",
      "\n",
      " [[ 2 10]\n",
      "  [ 6 14]]\n",
      "\n",
      " [[ 3 11]\n",
      "  [ 7 15]]]\n",
      "-----\n",
      "[[[ 0  1  2  3]\n",
      "  [ 8  9 10 11]]\n",
      "\n",
      " [[ 4  5  6  7]\n",
      "  [12 13 14 15]]]\n",
      "-----\n",
      "[[[ 0  8]\n",
      "  [ 4 12]]\n",
      "\n",
      " [[ 1  9]\n",
      "  [ 5 13]]\n",
      "\n",
      " [[ 2 10]\n",
      "  [ 6 14]]\n",
      "\n",
      " [[ 3 11]\n",
      "  [ 7 15]]]\n"
     ]
    }
   ],
   "source": [
    "# transpose默认是转置矩阵\n",
    "q_1 = q.transpose()\n",
    "print(q_1)\n",
    "print('-'*5)\n",
    "# q的0轴和1轴交换 ，注意：第一个方括号“[]”为 0轴 ，第二个方括号为 1轴 \n",
    "q_2 = q.transpose((1,0,2))\n",
    "print(q_2)\n",
    "print('-'*5)\n",
    "# q的0轴和2轴交换位置\n",
    "q_3 = q.transpose((2,1,0))\n",
    "print(q_3)"
   ]
  },
  {
   "cell_type": "markdown",
   "metadata": {},
   "source": [
    "q （图中2轴从下到上应该是0，1，2，3） ![](https://github.com/sisyphusking/daydayup/blob/master/matrix-transpose.png?raw=true)\n",
    "q交换0轴和1轴(第一个方括号“[]”为 0轴 ，第二个方括号为 1轴 ) ![](https://github.com/sisyphusking/daydayup/blob/master/matrix-transpose-2.png?raw=true)"
   ]
  },
  {
   "cell_type": "code",
   "execution_count": 5,
   "metadata": {},
   "outputs": [
    {
     "name": "stdout",
     "output_type": "stream",
     "text": [
      "[[1 2]\n",
      " [3 4]]\n",
      "10\n",
      "[4 6]\n",
      "[3 7]\n",
      "[1.5 3.5]\n",
      "None\n"
     ]
    }
   ],
   "source": [
    "# 矩阵内元素求和\n",
    "r = np.array([[1,2], [3,4]])\n",
    "print(r)\n",
    "# 各个元素相加\n",
    "r1 = np.sum(r)\n",
    "print(r1)\n",
    "# 列元素相加\n",
    "r2 = np.sum(r,axis=0)\n",
    "print(r2)\n",
    "# 行元素相加\n",
    "r3 = np.sum(r,axis=1)\n",
    "print(r3)\n",
    "# 行元素求均值\n",
    "r4 = np.mean(r,axis=1)\n",
    "print(r4)\n"
   ]
  },
  {
   "cell_type": "code",
   "execution_count": 29,
   "metadata": {},
   "outputs": [
    {
     "name": "stdout",
     "output_type": "stream",
     "text": [
      "[1.1 2.2 1.3 1.4 2.5]\n"
     ]
    }
   ],
   "source": [
    "#  np.where:当conditon的某个位置的为true时，输出x的对应位置的元素，否则选择y对应位置的元素\n",
    "r5 = np.array([1.1, 1.2, 1.3, 1.4, 1.5])\n",
    "r6 = np.array([2.1, 2.2, 2.3, 2.4, 2.5])\n",
    "r7 = np.array([True, False, True, True, False])\n",
    "print(np.where(r7, r5, r6))"
   ]
  },
  {
   "cell_type": "markdown",
   "metadata": {},
   "source": [
    "### 4、广播"
   ]
  },
  {
   "cell_type": "code",
   "execution_count": 6,
   "metadata": {},
   "outputs": [
    {
     "name": "stdout",
     "output_type": "stream",
     "text": [
      "[[ 1  2  3]\n",
      " [ 4  5  6]\n",
      " [ 7  8  9]\n",
      " [10 11 12]]\n",
      "[1 0 1]\n"
     ]
    }
   ],
   "source": [
    "s =  np.array([[1,2,3], [4,5,6], [7,8,9], [10, 11, 12]])\n",
    "t = v = np.array([1, 0, 1])\n",
    "print(s)\n",
    "print(t)"
   ]
  },
  {
   "cell_type": "code",
   "execution_count": 24,
   "metadata": {},
   "outputs": [
    {
     "data": {
      "text/plain": [
       "array([[122,   0,   0],\n",
       "       [  0,   0,   0],\n",
       "       [  0,   0,   0],\n",
       "       [  0,   0,   0]])"
      ]
     },
     "execution_count": 24,
     "metadata": {},
     "output_type": "execute_result"
    }
   ],
   "source": [
    "# 生成与a相似（形态和数据类型）的随机矩阵\n",
    "s_1 = np.empty_like(s)\n",
    "s_1"
   ]
  },
  {
   "cell_type": "code",
   "execution_count": 28,
   "metadata": {},
   "outputs": [
    {
     "name": "stdout",
     "output_type": "stream",
     "text": [
      "[[ 2  2  4]\n",
      " [ 5  5  7]\n",
      " [ 8  8 10]\n",
      " [11 11 13]]\n",
      "(4, 3) (3,)\n"
     ]
    },
    {
     "data": {
      "text/plain": [
       "array([[ 2,  2,  4],\n",
       "       [ 5,  5,  7],\n",
       "       [ 8,  8, 10],\n",
       "       [11, 11, 13]])"
      ]
     },
     "execution_count": 28,
     "metadata": {},
     "output_type": "execute_result"
    }
   ],
   "source": [
    "# 一般做法\n",
    "for i in range(4):\n",
    "    s_1[i,:] = s[i,:] + t\n",
    "print(s_1)\n",
    "# 广播\n",
    "print(s.shape,t.shape)\n",
    "s+t"
   ]
  },
  {
   "cell_type": "markdown",
   "metadata": {},
   "source": [
    "当操作两个array时，numpy会逐个比较它们的shape，在下述情况下，两arrays会兼容和输出broadcasting结果：<br>\n",
    "\n",
    "1. 相等\n",
    "2. 其中一个为1，（进而可进行拷贝拓展已至，shape匹配）\n",
    "\n",
    "比如求和的时候有：\n",
    "```python\n",
    "Image (3d array):  256 x 256 x 3\n",
    "Scale (1d array):              3\n",
    "Result (3d array): 256 x 256 x 3\n",
    "\n",
    "A      (4d array):  8 x 1 x 6 x 1\n",
    "B      (3d array):      7 x 1 x 5\n",
    "Result (4d array):  8 x 7 x 6 x 5\n",
    "\n",
    "A      (2d array):  5 x 4\n",
    "B      (1d array):      1\n",
    "Result (2d array):  5 x 4\n",
    "\n",
    "A      (2d array):  15 x 3 x 5\n",
    "B      (1d array):  15 x 1 x 5\n",
    "Result (2d array):  15 x 3 x 5\n",
    "```"
   ]
  },
  {
   "cell_type": "markdown",
   "metadata": {},
   "source": [
    "![](https://github.com/sisyphusking/daydayup/blob/master/numpy-broadcast.png?raw=true)"
   ]
  },
  {
   "cell_type": "code",
   "execution_count": 32,
   "metadata": {},
   "outputs": [
    {
     "name": "stdout",
     "output_type": "stream",
     "text": [
      "(5, 3)\n",
      "(5, 3)\n"
     ]
    },
    {
     "data": {
      "text/plain": [
       "array([ 0,  1,  2,  3,  4,  5,  6,  7,  8,  9, 10, 11, 12, 13, 14])"
      ]
     },
     "execution_count": 32,
     "metadata": {},
     "output_type": "execute_result"
    }
   ],
   "source": [
    "# reshape\n",
    "u =  np.arange(15)\n",
    "print(u.reshape(5,3).shape)\n",
    "# 如果我们在某一个维度上写上-1，numpy会帮我们自动推导出正确的维度\n",
    "print(u.reshape(5,-1).shape)\n",
    "# ravel将高维数组拉平\n",
    "u_1 = u.reshape(5,3)\n",
    "u_2 = u_1.ravel()\n",
    "u_2"
   ]
  },
  {
   "cell_type": "code",
   "execution_count": 38,
   "metadata": {},
   "outputs": [
    {
     "name": "stdout",
     "output_type": "stream",
     "text": [
      "[[ 1  2  3]\n",
      " [ 4  5  6]\n",
      " [ 7  8  9]\n",
      " [10 11 12]]\n",
      "[[ 1  2  3  7  8  9]\n",
      " [ 4  5  6 10 11 12]]\n",
      "[[ 1  2  3]\n",
      " [ 4  5  6]\n",
      " [ 7  8  9]\n",
      " [10 11 12]]\n",
      "[[ 1  2  3  7  8  9]\n",
      " [ 4  5  6 10 11 12]]\n"
     ]
    }
   ],
   "source": [
    "v1 = np.array([[1, 2, 3], [4, 5, 6]])\n",
    "v2 = np.array([[7, 8, 9], [10, 11, 12]])\n",
    "# 合并两个数组 不同方向\n",
    "v3 = np.concatenate([v1, v2], axis=0)\n",
    "print(v3)\n",
    "v4 = np.concatenate([v1, v2], axis=1)\n",
    "print(v4)\n",
    "# 堆叠也能起到相同的作用,垂直堆叠\n",
    "v5 = np.vstack((v1,v2))\n",
    "print(v5)\n",
    "# 水平堆叠\n",
    "v6 = np.hstack((v1,v2))\n",
    "print(v6)"
   ]
  },
  {
   "cell_type": "code",
   "execution_count": null,
   "metadata": {
    "scrolled": true
   },
   "outputs": [],
   "source": [
    "#  读取文件\n",
    "w = np.loadtxt('array_ex.txt', delimiter=',')\n",
    "print(w)"
   ]
  },
  {
   "cell_type": "code",
   "execution_count": 43,
   "metadata": {
    "scrolled": true
   },
   "outputs": [
    {
     "name": "stdout",
     "output_type": "stream",
     "text": [
      "[[[ 0  1  2  3  4]\n",
      "  [ 5  6  7  8  9]]\n",
      "\n",
      " [[10 11 12 13 14]\n",
      "  [15 16 17 18 19]]]\n",
      "[[[ 0  1  2  3  4]\n",
      "  [ 5  6  7  8  9]]\n",
      "\n",
      " [[10 11 12 13 14]\n",
      "  [15 16 17 18 19]]]\n"
     ]
    }
   ],
   "source": [
    "w1 = np.arange(20).reshape(2,2,5)\n",
    "print(w1)\n",
    "# 保存\n",
    "np.save('some_array', w1)\n",
    "# 提取\n",
    "w2 = np.load('some_array.npy')\n",
    "print(w2)"
   ]
  },
  {
   "cell_type": "markdown",
   "metadata": {},
   "source": [
    "###  5、用numpy写一个softmax"
   ]
  },
  {
   "cell_type": "code",
   "execution_count": 44,
   "metadata": {},
   "outputs": [
    {
     "name": "stdout",
     "output_type": "stream",
     "text": [
      "[[1004.93241217 1000.30996603 1005.77189237 1007.84202054 1004.80344567\n",
      "  1000.5646706  1002.94648962 1001.50811848 1008.73050257 1001.75616713]\n",
      " [1009.02925138 1009.4998451  1008.78188358 1005.02985148 1000.60801923\n",
      "  1005.08101347 1003.43120945 1009.32578105 1003.2872178  1006.44823787]\n",
      " [1004.40550698 1002.77038198 1006.23936487 1008.68771137 1009.76447417\n",
      "  1005.09098472 1001.79780087 1001.68018977 1009.29722199 1006.82451727]\n",
      " [1005.98252957 1001.93953883 1006.07027846 1004.17963251 1006.27483471\n",
      "  1009.19066431 1006.68131536 1004.77500499 1000.91944586 1003.5150348 ]\n",
      " [1000.07256747 1007.06431159 1000.60789862 1000.44832402 1009.8680554\n",
      "  1007.35525321 1005.62112708 1002.5876942  1002.92636906 1009.81148391]\n",
      " [1003.54742759 1009.69125704 1008.02777872 1002.08157329 1009.44866717\n",
      "  1002.46062046 1002.42841807 1003.91644193 1001.59204917 1007.19189358]\n",
      " [1006.30576886 1000.31950193 1006.25613453 1001.8829354  1001.38710453\n",
      "  1008.46342087 1009.2190241  1004.4369867  1003.2981644  1008.63624275]\n",
      " [1008.54315337 1003.34920827 1009.95332187 1004.26628322 1005.87932405\n",
      "  1001.36323657 1001.62771279 1009.95859743 1006.50387068 1005.28975652]\n",
      " [1008.47137694 1006.74996855 1005.08286975 1009.69812948 1003.73313337\n",
      "  1000.37457041 1003.28416901 1000.57995311 1005.27168418 1005.51260975]\n",
      " [1000.30063301 1006.59961868 1007.43530863 1005.59710712 1004.11675269\n",
      "  1001.1016517  1003.79238243 1009.84050022 1006.21504252 1005.7102308 ]]\n"
     ]
    }
   ],
   "source": [
    "# 以给定的形状创建一个(10,10)的数组，并在数组中加入在[0,1]之间均匀分布的随机样本，然后元素乘以10 ，再加上1000\n",
    "x = np.random.rand(10,10) * 10 + 1000\n",
    "print(x)"
   ]
  },
  {
   "cell_type": "code",
   "execution_count": 46,
   "metadata": {},
   "outputs": [
    {
     "name": "stdout",
     "output_type": "stream",
     "text": [
      "[[1008.73050257]\n",
      " [1009.4998451 ]\n",
      " [1009.76447417]\n",
      " [1009.19066431]\n",
      " [1009.8680554 ]\n",
      " [1009.69125704]\n",
      " [1009.2190241 ]\n",
      " [1009.95859743]\n",
      " [1009.69812948]\n",
      " [1009.84050022]] (10, 1)\n"
     ]
    }
   ],
   "source": [
    "# np.exp(m) 求出每一行中的最大值\n",
    "x_row_max = x.max(axis=1).reshape(10,1)\n",
    "print(x_row_max, x_row_max.shape)"
   ]
  },
  {
   "cell_type": "code",
   "execution_count": 47,
   "metadata": {},
   "outputs": [
    {
     "name": "stdout",
     "output_type": "stream",
     "text": [
      "[[-3.79809039e+00 -8.42053654e+00 -2.95861019e+00 -8.88482023e-01\n",
      "  -3.92705689e+00 -8.16583197e+00 -5.78401295e+00 -7.22238409e+00\n",
      "   0.00000000e+00 -6.97433543e+00]\n",
      " [-4.70593713e-01  0.00000000e+00 -7.17961519e-01 -4.46999362e+00\n",
      "  -8.89182587e+00 -4.41883163e+00 -6.06863565e+00 -1.74064051e-01\n",
      "  -6.21262730e+00 -3.05160722e+00]\n",
      " [-5.35896718e+00 -6.99409218e+00 -3.52510930e+00 -1.07676280e+00\n",
      "   0.00000000e+00 -4.67348944e+00 -7.96667330e+00 -8.08428440e+00\n",
      "  -4.67252176e-01 -2.93995690e+00]\n",
      " [-3.20813474e+00 -7.25112548e+00 -3.12038585e+00 -5.01103180e+00\n",
      "  -2.91582959e+00  0.00000000e+00 -2.50934894e+00 -4.41565932e+00\n",
      "  -8.27121844e+00 -5.67562951e+00]\n",
      " [-9.79548793e+00 -2.80374381e+00 -9.26015678e+00 -9.41973138e+00\n",
      "   0.00000000e+00 -2.51280219e+00 -4.24692833e+00 -7.28036120e+00\n",
      "  -6.94168634e+00 -5.65714903e-02]\n",
      " [-6.14382946e+00  0.00000000e+00 -1.66347832e+00 -7.60968375e+00\n",
      "  -2.42589869e-01 -7.23063658e+00 -7.26283897e+00 -5.77481511e+00\n",
      "  -8.09920787e+00 -2.49936346e+00]\n",
      " [-2.91325524e+00 -8.89952218e+00 -2.96288958e+00 -7.33608871e+00\n",
      "  -7.83191957e+00 -7.55603234e-01  0.00000000e+00 -4.78203741e+00\n",
      "  -5.92085971e+00 -5.82781355e-01]\n",
      " [-1.41544406e+00 -6.60938917e+00 -5.27556467e-03 -5.69231421e+00\n",
      "  -4.07927339e+00 -8.59536086e+00 -8.33088465e+00  0.00000000e+00\n",
      "  -3.45472675e+00 -4.66884091e+00]\n",
      " [-1.22675254e+00 -2.94816092e+00 -4.61525972e+00  0.00000000e+00\n",
      "  -5.96499610e+00 -9.32355906e+00 -6.41396046e+00 -9.11817637e+00\n",
      "  -4.42644530e+00 -4.18551973e+00]\n",
      " [-9.53986721e+00 -3.24088154e+00 -2.40519159e+00 -4.24339310e+00\n",
      "  -5.72374753e+00 -8.73884851e+00 -6.04811779e+00  0.00000000e+00\n",
      "  -3.62545770e+00 -4.13026942e+00]]\n"
     ]
    }
   ],
   "source": [
    "# x减去每一行最大值\n",
    "x = x - x_row_max\n",
    "print(x)"
   ]
  },
  {
   "cell_type": "code",
   "execution_count": 48,
   "metadata": {},
   "outputs": [
    {
     "name": "stdout",
     "output_type": "stream",
     "text": [
      "[[2.24135321e-02 2.20296423e-04 5.18909855e-02 4.11279592e-01\n",
      "  1.97015711e-02 2.84200106e-04 3.07634540e-03 7.30059817e-04\n",
      "  1.00000000e+00 9.35587923e-04]\n",
      " [6.24631307e-01 1.00000000e+00 4.87745503e-01 1.14473889e-02\n",
      "  1.37508356e-04 1.20483009e-02 2.31432862e-03 8.40243077e-01\n",
      "  2.00396553e-03 4.72828691e-02]\n",
      " [4.70576379e-03 9.17285142e-04 2.94485885e-02 3.40696646e-01\n",
      "  1.00000000e+00 9.33962252e-03 3.46830873e-04 3.08347120e-04\n",
      "  6.26722026e-01 5.28680075e-02]\n",
      " [4.04319591e-02 7.09375551e-04 4.41401336e-02 6.66402383e-03\n",
      "  5.41590823e-02 1.00000000e+00 8.13211668e-02 1.20865826e-02\n",
      "  2.55773456e-04 3.42851003e-03]\n",
      " [5.57023660e-05 6.05828269e-02 9.51404078e-05 8.11078036e-05\n",
      "  1.00000000e+00 8.10408287e-02 1.43081163e-02 6.88936673e-04\n",
      "  9.66638139e-04 9.44998924e-01]\n",
      " [2.14668721e-03 1.00000000e+00 1.89478765e-01 4.95628577e-04\n",
      "  7.84593234e-01 7.24059792e-04 7.01114761e-04 3.10477165e-03\n",
      "  3.03779675e-04 8.21372655e-02]\n",
      " [5.42986864e-02 1.36454112e-04 5.16693986e-02 6.51594118e-04\n",
      "  3.96862941e-04 4.69727174e-01 1.00000000e+00 8.37891032e-03\n",
      "  2.68289269e-03 5.58343254e-01]\n",
      " [2.42817764e-01 1.34765509e-03 9.94738327e-01 3.37178092e-03\n",
      "  1.69197553e-02 1.84961870e-04 2.40958787e-04 1.00000000e+00\n",
      "  3.15959367e-02 9.38313911e-03]\n",
      " [2.93243330e-01 5.24360512e-02 9.89961192e-03 1.00000000e+00\n",
      "  2.56705461e-03 8.92955358e-05 1.63852233e-03 1.09654464e-04\n",
      "  1.19569175e-02 1.52142966e-02]\n",
      " [7.19263982e-05 3.91293857e-02 9.02482031e-02 1.43587883e-02\n",
      "  3.26744310e-03 1.60238294e-04 2.36230418e-03 1.00000000e+00\n",
      "  2.66369029e-02 1.60785464e-02]] (10, 10)\n"
     ]
    }
   ],
   "source": [
    "# 返回e的x次方,每一个元素都求其指数函数\n",
    "x_exp = np.exp(x)\n",
    "print(x_exp, x_exp.shape)"
   ]
  },
  {
   "cell_type": "code",
   "execution_count": 49,
   "metadata": {},
   "outputs": [
    {
     "name": "stdout",
     "output_type": "stream",
     "text": [
      "[[1.51053217]\n",
      " [3.02785425]\n",
      " [2.06535312]\n",
      " [1.24319661]\n",
      " [2.10281822]\n",
      " [2.06368531]\n",
      " [2.14628523]\n",
      " [2.30060028]\n",
      " [1.38715473]\n",
      " [1.19231374]] (10, 1)\n"
     ]
    }
   ],
   "source": [
    "# 每一行元素的指数函数相加\n",
    "x_exp_row_sum = x_exp.sum(axis=1).reshape(10,1)\n",
    "print(x_exp_row_sum, x_exp_row_sum.shape)"
   ]
  },
  {
   "cell_type": "code",
   "execution_count": 50,
   "metadata": {},
   "outputs": [
    {
     "name": "stdout",
     "output_type": "stream",
     "text": [
      "[[1.48381693e-02 1.45840272e-04 3.43527841e-02 2.72274633e-01\n",
      "  1.30428014e-02 1.88145682e-04 2.03659707e-03 4.83312988e-04\n",
      "  6.62018340e-01 6.19376364e-04]\n",
      " [2.06295038e-01 3.30266888e-01 1.61086190e-01 3.78069351e-03\n",
      "  4.54144570e-05 3.97915486e-03 7.64346112e-04 2.77504466e-01\n",
      "  6.61843459e-04 1.56159660e-02]\n",
      " [2.27843062e-03 4.44129933e-04 1.42583795e-02 1.64958061e-01\n",
      "  4.84178706e-01 4.52204635e-03 1.67928123e-04 1.49295110e-04\n",
      "  3.03445460e-01 2.55975635e-02]\n",
      " [3.25225783e-02 5.70606086e-04 3.55053524e-02 5.36039416e-03\n",
      "  4.35643743e-02 8.04378000e-01 6.54129574e-02 9.72218116e-03\n",
      "  2.05738541e-04 2.75781804e-03]\n",
      " [2.64893872e-05 2.88103015e-02 4.52442379e-05 3.85710009e-05\n",
      "  4.75552280e-01 3.85391509e-02 6.80425735e-03 3.27625406e-04\n",
      "  4.59686971e-04 4.49396393e-01]\n",
      " [1.04022023e-03 4.84570005e-01 9.18157262e-02 2.40166742e-04\n",
      "  3.80190348e-01 3.50857657e-04 3.39739183e-04 1.50447922e-03\n",
      "  1.47202519e-04 3.98012552e-02]\n",
      " [2.52989145e-02 6.35768769e-05 2.40738733e-02 3.03591578e-04\n",
      "  1.84906897e-04 2.18855895e-01 4.65921298e-01 3.90391278e-03\n",
      "  1.25001684e-03 2.60144014e-01]\n",
      " [1.05545394e-01 5.85784111e-04 4.32382077e-01 1.46560919e-03\n",
      "  7.35449590e-03 8.03972212e-05 1.04737354e-04 4.34669164e-01\n",
      "  1.37337794e-02 4.07856123e-03]\n",
      " [2.11399149e-01 3.78011551e-02 7.13663132e-03 7.20900110e-01\n",
      "  1.85058995e-03 6.43731616e-05 1.18121093e-03 7.90499154e-05\n",
      "  8.61974312e-03 1.09679881e-02]\n",
      " [6.03250603e-05 3.28180281e-02 7.56916575e-02 1.20427936e-02\n",
      "  2.74042225e-03 1.34392726e-04 1.98127733e-03 8.38705424e-01\n",
      "  2.23405150e-02 1.34851641e-02]]\n"
     ]
    }
   ],
   "source": [
    "# 每个元素都除以所在行的元素和\n",
    "x_softmax = x_exp / x_exp_row_sum\n",
    "print(x_softmax)"
   ]
  },
  {
   "cell_type": "code",
   "execution_count": 51,
   "metadata": {},
   "outputs": [
    {
     "name": "stdout",
     "output_type": "stream",
     "text": [
      "[1. 1. 1. 1. 1. 1. 1. 1. 1. 1.]\n"
     ]
    }
   ],
   "source": [
    "# 验证每一行元素相加是否等于1\n",
    "print(x_softmax.sum(axis=1))"
   ]
  }
 ],
 "metadata": {
  "kernelspec": {
   "display_name": "Python 3",
   "language": "python",
   "name": "python3"
  },
  "language_info": {
   "codemirror_mode": {
    "name": "ipython",
    "version": 3
   },
   "file_extension": ".py",
   "mimetype": "text/x-python",
   "name": "python",
   "nbconvert_exporter": "python",
   "pygments_lexer": "ipython3",
   "version": "3.6.3"
  }
 },
 "nbformat": 4,
 "nbformat_minor": 2
}
